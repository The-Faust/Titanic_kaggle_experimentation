{
 "cells": [
  {
   "cell_type": "code",
   "execution_count": 25,
   "metadata": {},
   "outputs": [
    {
     "data": {
      "text/plain": [
       "SVC(C=1.0, cache_size=200, class_weight=None, coef0=0.0,\n",
       "  decision_function_shape='ovr', degree=3, gamma='auto', kernel='rbf',\n",
       "  max_iter=-1, probability=False, random_state=None, shrinking=True,\n",
       "  tol=0.001, verbose=False)"
      ]
     },
     "execution_count": 25,
     "metadata": {},
     "output_type": "execute_result"
    }
   ],
   "source": [
    "%matplotlib inline\n",
    "import pandas, matplotlib, numpy\n",
    "from scipy.stats import linregress\n",
    "from sklearn.svm import SVC\n",
    "\n",
    "\n",
    "#Thought the output sample were actual answers for contest\n",
    "def compare_computed_prediction_with_given_example(\n",
    "    path_to_answer=\"\", answer_predictions=pandas.DataFrame):\n",
    "    n_good_answers = 0\n",
    "    answer_df = pandas.read_csv(path_to_answer)\n",
    "    len_answers = len(answer_df[\"Survived\"])\n",
    "    for i in range(len_answers):\n",
    "        if answer_df[\"Survived\"][i] == answer_predictions[\"Survived\"][i]:\n",
    "            n_good_answers += 1\n",
    "    return float(n_good_answers)/(len_answers+1)\n",
    "\n",
    "\n",
    "unmodified_data_df = pandas.read_csv('data/train.csv').fillna(0)\n",
    "test_data_df = pandas.read_csv('data/test.csv')\n",
    "\n",
    "#First clean\n",
    "unmodified_data_df = unmodified_data_df\n",
    "test_data_df = test_data_df.fillna(0)\n",
    "\n",
    "unmodified_data_df[\"Sex\"] = unmodified_data_df[\"Sex\"].map({\"female\": 0, \"male\": 1})\n",
    "test_data_df[\"Sex\"] = test_data_df[\"Sex\"].map({\"female\": 0, \"male\": 1})\n",
    "\n",
    "#print(unmodified_data_df)\n",
    "#print(test_data_df)\n",
    "\n",
    "#label for training\n",
    "train_label = numpy.array(unmodified_data_df[\"Survived\"]).transpose()\n",
    "\n",
    "#Let's split these dataframe\n",
    "train_p_class = unmodified_data_df[\"Pclass\"]\n",
    "train_name = unmodified_data_df[\"Name\"]\n",
    "train_sex = unmodified_data_df[\"Sex\"]\n",
    "train_age = unmodified_data_df[\"Age\"]\n",
    "train_sibsp = unmodified_data_df[\"SibSp\"]\n",
    "\n",
    "test_p_class = test_data_df[\"Pclass\"]\n",
    "test_name = test_data_df[\"Name\"]\n",
    "test_sex = test_data_df[\"Sex\"]\n",
    "test_age = test_data_df[\"Age\"]\n",
    "test_sibsp = test_data_df[\"SibSp\"]\n",
    "\n",
    "training_inputs = numpy.array([train_p_class, train_sex, train_age, train_sibsp]).transpose()\n",
    "test_inputs = numpy.array([test_p_class, test_sex, test_age, test_sibsp]).transpose()\n",
    "\n",
    "#training the model (model is suppoort vector machine used for classification)\n",
    "first_model = SVC(gamma='auto')\n",
    "first_model.fit(training_inputs, train_label)"
   ]
  },
  {
   "cell_type": "code",
   "execution_count": 26,
   "metadata": {},
   "outputs": [
    {
     "name": "stdout",
     "output_type": "stream",
     "text": [
      "0.9379474940334129\n"
     ]
    }
   ],
   "source": [
    "#This time lets try with more attributes\n",
    "train_parch = unmodified_data_df[\"Parch\"]\n",
    "train_fare = unmodified_data_df[\"Fare\"]\n",
    "train_cabin = unmodified_data_df[\"Cabin\"]\n",
    "train_embarked = unmodified_data_df[\"Embarked\"]\n",
    "train_cabin = train_cabin.notnull().astype(\"int\")\n",
    "train_embarked = train_embarked.replace([\"S\", \"Q\", \"C\"], [1, 2, 3])\n",
    "\n",
    "test_parch = test_data_df[\"Parch\"]\n",
    "test_fare = test_data_df[\"Fare\"]\n",
    "test_cabin = test_data_df[\"Cabin\"]\n",
    "test_embarked = test_data_df[\"Embarked\"]\n",
    "test_cabin = test_cabin.notnull().astype(\"int\")\n",
    "test_embarked = test_embarked.replace([\"S\", \"Q\", \"C\"], [1, 2, 3])\n",
    "\n",
    "training_inputs = numpy.array([train_p_class, \n",
    "                               train_sex, \n",
    "                               #train_age, \n",
    "                               #train_sibsp, \n",
    "                               train_parch, \n",
    "                               #train_fare, \n",
    "                               #train_cabin, \n",
    "                               #train_embarked\n",
    "                              ]).transpose()\n",
    "\n",
    "test_inputs = numpy.array([test_p_class, \n",
    "                           test_sex, \n",
    "                           #test_age, \n",
    "                           #test_sibsp, \n",
    "                           test_parch, \n",
    "                           #test_fare, \n",
    "                           #test_cabin, \n",
    "                           #test_embarked\n",
    "                          ]).transpose()\n",
    "\n",
    "#training the new model\n",
    "second_model = SVC(gamma='auto')\n",
    "second_model.fit(training_inputs, train_label)\n",
    "\n",
    "passengers_id = test_data_df[\"PassengerId\"]\n",
    "answers = second_model.predict(test_inputs)\n",
    "\n",
    "answer_df = pandas.DataFrame(\n",
    "    {\"PassengerId\": passengers_id, \n",
    "     \"Survived\": answers})\n",
    "\n",
    "print(compare_computed_prediction_with_given_example(\n",
    "    \"data/true_answer/gender_submission.csv\", answer_df))\n",
    "\n",
    "answer_df.to_csv(\"data/outputs/svc_output.csv\", index=False)\n",
    "\n"
   ]
  },
  {
   "cell_type": "code",
   "execution_count": 27,
   "metadata": {},
   "outputs": [
    {
     "name": "stdout",
     "output_type": "stream",
     "text": [
      "0.801909307875895\n"
     ]
    }
   ],
   "source": [
    "from sklearn.neighbors import KNeighborsClassifier\n",
    "neighbors_classifier = KNeighborsClassifier(n_neighbors=10)\n",
    "\n",
    "neighbors_classifier.fit(training_inputs, train_label)\n",
    "answers = neighbors_classifier.predict(test_inputs)\n",
    "answer_df = pandas.DataFrame(\n",
    "    {\"PassengerId\": passengers_id, \n",
    "     \"Survived\": answers})\n",
    "\n",
    "print(compare_computed_prediction_with_given_example(\n",
    "    \"data/true_answer/gender_submission.csv\", answer_df))\n",
    "\n",
    "answer_df.to_csv(\"data/outputs/knn_output.csv\", index=False)"
   ]
  },
  {
   "cell_type": "code",
   "execution_count": 28,
   "metadata": {},
   "outputs": [
    {
     "name": "stdout",
     "output_type": "stream",
     "text": [
      "0.9355608591885441\n"
     ]
    }
   ],
   "source": [
    "from sklearn import tree\n",
    "\n",
    "classification_tree = tree.DecisionTreeClassifier()\n",
    "classification_tree = classification_tree.fit(training_inputs, train_label)\n",
    "answers = classification_tree.predict(test_inputs)\n",
    "answer_df = pandas.DataFrame(\n",
    "    {\"PassengerId\": passengers_id, \n",
    "     \"Survived\": answers})\n",
    "\n",
    "print(compare_computed_prediction_with_given_example(\n",
    "    \"data/true_answer/gender_submission.csv\", answer_df))\n",
    "\n",
    "answer_df.to_csv(\"data/outputs/decision_tree_output.csv\", index=False)\n",
    "#score for classification tree = 0.75119"
   ]
  },
  {
   "cell_type": "code",
   "execution_count": 29,
   "metadata": {},
   "outputs": [],
   "source": [
    "from sklearn.ensemble import RandomForestClassifier\n",
    "from sklearn.datasets import make_classification\n",
    "\n",
    "classification_forest = RandomForestClassifier(100)\n",
    "classification_forest.fit(training_inputs, train_label)\n",
    "answers = classification_forest.predict(test_inputs)\n",
    "answer_df =  pandas.DataFrame(\n",
    "    {\"PassengerId\": passengers_id, \n",
    "     \"Survived\": answers})\n",
    "\n",
    "answer_df.to_csv(\"data/outputs/random_forest_output_100_trees\", index=False)"
   ]
  },
  {
   "cell_type": "code",
   "execution_count": 30,
   "metadata": {},
   "outputs": [],
   "source": [
    "classification_forest = RandomForestClassifier(50)\n",
    "classification_forest.fit(training_inputs, train_label)\n",
    "answers = classification_forest.predict(test_inputs)\n",
    "answer_df =  pandas.DataFrame(\n",
    "    {\"PassengerId\": passengers_id, \n",
    "     \"Survived\": answers})\n",
    "\n",
    "answer_df.to_csv(\"data/outputs/random_forest_output_50_trees\", index=False)"
   ]
  },
  {
   "cell_type": "code",
   "execution_count": 31,
   "metadata": {},
   "outputs": [],
   "source": [
    "classification_forest = RandomForestClassifier(75)\n",
    "classification_forest.fit(training_inputs, train_label)\n",
    "answers = classification_forest.predict(test_inputs)\n",
    "answer_df =  pandas.DataFrame(\n",
    "    {\"PassengerId\": passengers_id, \n",
    "     \"Survived\": answers})\n",
    "\n",
    "answer_df.to_csv(\"data/outputs/random_forest_output_75_trees\", index=False)"
   ]
  },
  {
   "cell_type": "code",
   "execution_count": 32,
   "metadata": {},
   "outputs": [],
   "source": [
    "classification_forest = RandomForestClassifier(75, max_depth=5)\n",
    "classification_forest.fit(training_inputs, train_label)\n",
    "answers = classification_forest.predict(test_inputs)\n",
    "answer_df =  pandas.DataFrame(\n",
    "    {\"PassengerId\": passengers_id, \n",
    "     \"Survived\": answers})\n",
    "\n",
    "answer_df.to_csv(\"data/outputs/random_forest_output_75_trees_max_depth_5\", index=False)"
   ]
  }
 ],
 "metadata": {
  "kernelspec": {
   "display_name": "Python 3",
   "language": "python",
   "name": "python3"
  },
  "language_info": {
   "codemirror_mode": {
    "name": "ipython",
    "version": 3
   },
   "file_extension": ".py",
   "mimetype": "text/x-python",
   "name": "python",
   "nbconvert_exporter": "python",
   "pygments_lexer": "ipython3",
   "version": "3.6.5"
  }
 },
 "nbformat": 4,
 "nbformat_minor": 2
}
