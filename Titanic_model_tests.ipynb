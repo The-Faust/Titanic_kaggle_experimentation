{
 "cells": [
  {
   "cell_type": "code",
   "execution_count": 153,
   "metadata": {},
   "outputs": [
    {
     "data": {
      "text/plain": [
       "SVC(C=1.0, cache_size=200, class_weight=None, coef0=0.0,\n",
       "  decision_function_shape='ovr', degree=3, gamma='auto', kernel='rbf',\n",
       "  max_iter=-1, probability=False, random_state=None, shrinking=True,\n",
       "  tol=0.001, verbose=False)"
      ]
     },
     "execution_count": 153,
     "metadata": {},
     "output_type": "execute_result"
    }
   ],
   "source": [
    "%matplotlib inline\n",
    "import pandas, matplotlib, numpy\n",
    "\n",
    "from scipy.stats import linregress\n",
    "from sklearn.svm import SVC\n",
    "\n",
    "\n",
    "#Thought the output sample were actual answers for contest\n",
    "def compare_computed_prediction_with_true_answer(\n",
    "    path_to_answer=\"\", answer_predictions=pandas.DataFrame):\n",
    "    n_good_answers = 0\n",
    "    answer_df = pandas.read_csv(path_to_answer)\n",
    "    len_answers = len(answer_df[\"Survived\"])\n",
    "    for i in range(len_answers):\n",
    "        if answer_df[\"Survived\"][i] == answer_predictions[\"Survived\"][i]:\n",
    "            n_good_answers += 1\n",
    "    return float(n_good_answers)/(len_answers+1)\n",
    "\n",
    "\n",
    "unmodified_data_df = pandas.read_csv('data/train.csv').fillna(0)\n",
    "test_data_df = pandas.read_csv('data/test.csv')\n",
    "\n",
    "#First clean\n",
    "unmodified_data_df = unmodified_data_df\n",
    "test_data_df = test_data_df.fillna(0)\n",
    "avg_age_value = 0.5*(numpy.mean(unmodified_data_df[\"Age\"]) + \n",
    "                     numpy.average(unmodified_data_df[\"Age\"]))\n",
    "\n",
    "unmodified_data_df[\"Sex\"] = unmodified_data_df[\"Sex\"].map({\"female\": 0, \"male\": 1})\n",
    "unmodified_data_df[\"Age\"].replace(0, avg_age_value)\n",
    "test_data_df[\"Sex\"] = test_data_df[\"Sex\"].map({\"female\": 0, \"male\": 1})\n",
    "test_data_df[\"Age\"].replace(0, avg_age_value)\n",
    "\n",
    "#print(unmodified_data_df)\n",
    "#print(test_data_df)\n",
    "\n",
    "#label for training\n",
    "train_label = numpy.array(unmodified_data_df[\"Survived\"]).transpose()\n",
    "\n",
    "#Let's split these dataframe\n",
    "train_p_class = unmodified_data_df[\"Pclass\"]\n",
    "train_name = unmodified_data_df[\"Name\"]\n",
    "train_sex = unmodified_data_df[\"Sex\"]\n",
    "train_age = unmodified_data_df[\"Age\"]\n",
    "train_sibsp = unmodified_data_df[\"SibSp\"]\n",
    "\n",
    "test_p_class = test_data_df[\"Pclass\"]\n",
    "test_name = test_data_df[\"Name\"]\n",
    "test_sex = test_data_df[\"Sex\"]\n",
    "test_age = test_data_df[\"Age\"]\n",
    "test_sibsp = test_data_df[\"SibSp\"]\n",
    "\n",
    "training_inputs = numpy.array([train_p_class, train_sex, train_age, train_sibsp]).transpose()\n",
    "test_inputs = numpy.array([test_p_class, test_sex, test_age, test_sibsp]).transpose()\n",
    "\n",
    "#training the model (model is suppoort vector machine used for classification)\n",
    "first_model = SVC(gamma='auto')\n",
    "first_model.fit(training_inputs, train_label)"
   ]
  },
  {
   "cell_type": "code",
   "execution_count": 154,
   "metadata": {},
   "outputs": [
    {
     "name": "stdout",
     "output_type": "stream",
     "text": [
      "p_class:  -0.338481035961\n",
      "sex:  -0.543351380658\n",
      "age:  0.0105392158713\n",
      "sibsp:  -0.0353224988857\n",
      "parch:  0.0816294070835\n",
      "fare:  0.257306522385\n",
      "embarked:  0.163516651425\n"
     ]
    }
   ],
   "source": [
    "#This time lets try with more attributes\n",
    "train_parch = unmodified_data_df[\"Parch\"]\n",
    "train_fare = unmodified_data_df[\"Fare\"]\n",
    "train_cabin = unmodified_data_df[\"Cabin\"]\n",
    "train_embarked = unmodified_data_df[\"Embarked\"]\n",
    "train_cabin = train_cabin.notnull().astype(\"int\")\n",
    "train_embarked = train_embarked.replace([\"S\", \"Q\", \"C\"], [1, 2, 3])\n",
    "\n",
    "test_parch = test_data_df[\"Parch\"]\n",
    "test_fare = test_data_df[\"Fare\"]\n",
    "test_cabin = test_data_df[\"Cabin\"]\n",
    "test_embarked = test_data_df[\"Embarked\"]\n",
    "test_cabin = test_cabin.notnull().astype(\"int\")\n",
    "test_embarked = test_embarked.replace([\"S\", \"Q\", \"C\"], [1, 2, 3])\n",
    "\n",
    "#check how each attribute is linked to outcome\n",
    "print(\"p_class: \", linregress(train_p_class, train_label).rvalue)\n",
    "print(\"sex: \", linregress(train_sex, train_label).rvalue)\n",
    "print(\"age: \", linregress(train_age, train_label).rvalue)\n",
    "print(\"sibsp: \", linregress(train_sibsp, train_label).rvalue)\n",
    "print(\"parch: \", linregress(train_parch, train_label).rvalue)\n",
    "print(\"fare: \", linregress(train_fare, train_label).rvalue)\n",
    "#print(\"cabin: \", linregress(train_cabin, train_label).rvalue)\n",
    "print(\"embarked: \", linregress(train_embarked, train_label).rvalue)"
   ]
  },
  {
   "cell_type": "code",
   "execution_count": 155,
   "metadata": {},
   "outputs": [
    {
     "name": "stdout",
     "output_type": "stream",
     "text": [
      "0.8878281622911695\n"
     ]
    }
   ],
   "source": [
    "training_inputs = numpy.array([train_p_class, \n",
    "                               train_sex, \n",
    "                               #train_age, \n",
    "                               #train_sibsp, \n",
    "                               #train_parch, \n",
    "                               train_fare, \n",
    "                               #train_cabin, \n",
    "                               #train_embarked\n",
    "                              ]).transpose()\n",
    "\n",
    "test_inputs = numpy.array([test_p_class, \n",
    "                           test_sex, \n",
    "                           #test_age, \n",
    "                           #test_sibsp, \n",
    "                           #test_parch, \n",
    "                           test_fare, \n",
    "                           #test_cabin, \n",
    "                           #test_embarked\n",
    "                          ]).transpose()\n",
    "\n",
    "#training the new model\n",
    "second_model = SVC(gamma='auto')\n",
    "second_model.fit(training_inputs, train_label)\n",
    "\n",
    "passengers_id = test_data_df[\"PassengerId\"]\n",
    "answers = second_model.predict(test_inputs)\n",
    "\n",
    "answer_df = pandas.DataFrame(\n",
    "    {\"PassengerId\": passengers_id, \n",
    "     \"Survived\": answers})\n",
    "\n",
    "print(compare_computed_prediction_with_true_answer(\n",
    "    \"data/true_answer/gender_submission.csv\", answer_df))\n",
    "\n",
    "answer_df.to_csv(\"data/outputs/svc_output.csv\", index=False)"
   ]
  },
  {
   "cell_type": "code",
   "execution_count": 156,
   "metadata": {},
   "outputs": [
    {
     "name": "stdout",
     "output_type": "stream",
     "text": [
      "0.8210023866348448\n"
     ]
    }
   ],
   "source": [
    "from sklearn.neighbors import KNeighborsClassifier\n",
    "neighbors_classifier = KNeighborsClassifier(n_neighbors=10)\n",
    "\n",
    "neighbors_classifier.fit(training_inputs, train_label)\n",
    "answers = neighbors_classifier.predict(test_inputs)\n",
    "answer_df = pandas.DataFrame(\n",
    "    {\"PassengerId\": passengers_id, \n",
    "     \"Survived\": answers})\n",
    "\n",
    "print(compare_computed_prediction_with_true_answer(\n",
    "    \"data/true_answer/gender_submission.csv\", answer_df))\n",
    "\n",
    "answer_df.to_csv(\"data/outputs/knn_output.csv\", index=False)"
   ]
  },
  {
   "cell_type": "code",
   "execution_count": 157,
   "metadata": {},
   "outputs": [
    {
     "name": "stdout",
     "output_type": "stream",
     "text": [
      "0.863961813842482\n"
     ]
    }
   ],
   "source": [
    "from sklearn import tree\n",
    "\n",
    "classification_tree = tree.DecisionTreeClassifier()\n",
    "classification_tree = classification_tree.fit(training_inputs, train_label)\n",
    "answers = classification_tree.predict(test_inputs)\n",
    "answer_df = pandas.DataFrame(\n",
    "    {\"PassengerId\": passengers_id, \n",
    "     \"Survived\": answers})\n",
    "\n",
    "print(compare_computed_prediction_with_true_answer(\n",
    "    \"data/true_answer/gender_submission.csv\", answer_df))\n",
    "\n",
    "answer_df.to_csv(\"data/outputs/decision_tree_output.csv\", index=False)\n",
    "#score for classification tree = 0.75119"
   ]
  },
  {
   "cell_type": "code",
   "execution_count": 158,
   "metadata": {},
   "outputs": [],
   "source": [
    "from sklearn.ensemble import RandomForestClassifier\n",
    "from sklearn.datasets import make_classification\n",
    "\n",
    "classification_forest = RandomForestClassifier(100)\n",
    "classification_forest.fit(training_inputs, train_label)\n",
    "answers = classification_forest.predict(test_inputs)\n",
    "answer_df =  pandas.DataFrame(\n",
    "    {\"PassengerId\": passengers_id, \n",
    "     \"Survived\": answers})\n",
    "\n",
    "answer_df.to_csv(\"data/outputs/random_forest_output_100_trees\", index=False)\n",
    "#100 trees give score of = 0.75590"
   ]
  },
  {
   "cell_type": "code",
   "execution_count": 159,
   "metadata": {},
   "outputs": [],
   "source": [
    "classification_forest = RandomForestClassifier(50)\n",
    "classification_forest.fit(training_inputs, train_label)\n",
    "answers = classification_forest.predict(test_inputs)\n",
    "answer_df =  pandas.DataFrame(\n",
    "    {\"PassengerId\": passengers_id, \n",
    "     \"Survived\": answers})\n",
    "\n",
    "answer_df.to_csv(\"data/outputs/random_forest_output_50_trees\", index=False)\n",
    "#50 trees give score of 0.7655"
   ]
  },
  {
   "cell_type": "code",
   "execution_count": 160,
   "metadata": {},
   "outputs": [],
   "source": [
    "classification_forest = RandomForestClassifier(75)\n",
    "classification_forest.fit(training_inputs, train_label)\n",
    "answers = classification_forest.predict(test_inputs)\n",
    "answer_df =  pandas.DataFrame(\n",
    "    {\"PassengerId\": passengers_id, \n",
    "     \"Survived\": answers})\n",
    "\n",
    "answer_df.to_csv(\"data/outputs/random_forest_output_75_trees\", index=False)\n",
    "#75 trees give score of 0.77511"
   ]
  },
  {
   "cell_type": "code",
   "execution_count": 161,
   "metadata": {},
   "outputs": [],
   "source": [
    "classification_forest = RandomForestClassifier(75, max_depth=5)\n",
    "classification_forest.fit(training_inputs, train_label)\n",
    "answers = classification_forest.predict(test_inputs)\n",
    "answer_df =  pandas.DataFrame(\n",
    "    {\"PassengerId\": passengers_id, \n",
    "     \"Survived\": answers})\n",
    "\n",
    "answer_df.to_csv(\"data/outputs/random_forest_output_75_trees_max_depth_5\", index=False)\n",
    "#reducing number of max layers to 5 brings score to 0.77033"
   ]
  }
 ],
 "metadata": {
  "kernelspec": {
   "display_name": "Python 3",
   "language": "python",
   "name": "python3"
  },
  "language_info": {
   "codemirror_mode": {
    "name": "ipython",
    "version": 3
   },
   "file_extension": ".py",
   "mimetype": "text/x-python",
   "name": "python",
   "nbconvert_exporter": "python",
   "pygments_lexer": "ipython3",
   "version": "3.6.5"
  }
 },
 "nbformat": 4,
 "nbformat_minor": 2
}
